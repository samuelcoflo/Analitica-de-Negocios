{
  "nbformat": 4,
  "nbformat_minor": 0,
  "metadata": {
    "colab": {
      "provenance": [],
      "authorship_tag": "ABX9TyOz0rS3sAIRedV8kuCXVgYg",
      "include_colab_link": true
    },
    "kernelspec": {
      "name": "python3",
      "display_name": "Python 3"
    },
    "language_info": {
      "name": "python"
    }
  },
  "cells": [
    {
      "cell_type": "markdown",
      "metadata": {
        "id": "view-in-github",
        "colab_type": "text"
      },
      "source": [
        "<a href=\"https://colab.research.google.com/github/samuelcoflo/Analitica-de-Negocios/blob/main/Samuel_Correa_Reto_1.ipynb\" target=\"_parent\"><img src=\"https://colab.research.google.com/assets/colab-badge.svg\" alt=\"Open In Colab\"/></a>"
      ]
    },
    {
      "cell_type": "markdown",
      "source": [
        "Naive Bayes - Samuel Correa"
      ],
      "metadata": {
        "id": "1lxh1_m-nT3c"
      }
    },
    {
      "cell_type": "markdown",
      "source": [
        "0. Cargar librerias"
      ],
      "metadata": {
        "id": "ND4FdyIKnenh"
      }
    },
    {
      "cell_type": "code",
      "source": [
        "import pandas as pd\n",
        "import numpy as np\n",
        "from sklearn.naive_bayes import GaussianNB\n",
        "from sklearn.metrics import confusion_matrix"
      ],
      "metadata": {
        "id": "g-f3RN9fnpD8"
      },
      "execution_count": null,
      "outputs": []
    },
    {
      "cell_type": "markdown",
      "source": [
        "1. Cargar la BD"
      ],
      "metadata": {
        "id": "oAOch9WJoA6p"
      }
    },
    {
      "cell_type": "code",
      "source": [
        "nxl='/content/1. BD1_Longitudinal Survey_Int (1).xlsx'\n",
        "XDB=pd.read_excel(nxl,sheet_name=0) #Traigo los datos\n",
        "XDB.dropna(inplace = True) #Eliminar celdas vacias, datos faltantes\n",
        "\n",
        "XDB=XDB[['Age', 'Mother_Edu', 'Father_Edu', 'FamilySize', 'Self_Esteem', 'Height', 'Weight', 'Income', 'Urban']]\n",
        "# Datos de Entrada\n",
        "XD=np.array(XDB[['Age', 'Mother_Edu', 'Father_Edu', 'FamilySize', 'Self_Esteem', 'Height', 'Weight', 'Income']])\n",
        "# Datos de Salida- Valor deseado\n",
        "YD=np.array(XDB['Urban'])\n",
        "XDB"
      ],
      "metadata": {
        "colab": {
          "base_uri": "https://localhost:8080/",
          "height": 423
        },
        "id": "gKVQfliElPAM",
        "outputId": "b45fa270-cc88-46cf-f5e9-85916b4dfa5d"
      },
      "execution_count": null,
      "outputs": [
        {
          "output_type": "execute_result",
          "data": {
            "text/plain": [
              "       Age  Mother_Edu  Father_Edu  FamilySize  Self_Esteem  Height  Weight  \\\n",
              "1       20         5.0         8.0           5         16.0    62.0   120.0   \n",
              "5       19        12.0        12.0           4         27.0    64.0   200.0   \n",
              "6       15        12.0        12.0           3         26.0    65.0   131.0   \n",
              "7       21         9.0         6.0           3         23.0    65.0   179.0   \n",
              "8       16        12.0        10.0           6         26.0    66.0   145.0   \n",
              "...    ...         ...         ...         ...          ...     ...     ...   \n",
              "12557   20        12.0        12.0           5         20.0    60.0   110.0   \n",
              "12565   20        12.0        11.0           2         24.0    63.0   152.0   \n",
              "12647   21        16.0        12.0           1         30.0    70.0   180.0   \n",
              "12651   21        16.0        16.0           1         27.0    73.0   170.0   \n",
              "12678   21         8.0         8.0           1         19.0    70.0   180.0   \n",
              "\n",
              "        Income  Urban  \n",
              "1          0.0    1.0  \n",
              "5      40000.0    1.0  \n",
              "6      25000.0    1.0  \n",
              "7      27400.0    1.0  \n",
              "8      52000.0    1.0  \n",
              "...        ...    ...  \n",
              "12557   1000.0    1.0  \n",
              "12565  38000.0    1.0  \n",
              "12647  43600.0    1.0  \n",
              "12651  40000.0    1.0  \n",
              "12678  17000.0    0.0  \n",
              "\n",
              "[5683 rows x 9 columns]"
            ],
            "text/html": [
              "\n",
              "  <div id=\"df-7d332c41-565f-49a7-8a4e-ece90ae574dd\" class=\"colab-df-container\">\n",
              "    <div>\n",
              "<style scoped>\n",
              "    .dataframe tbody tr th:only-of-type {\n",
              "        vertical-align: middle;\n",
              "    }\n",
              "\n",
              "    .dataframe tbody tr th {\n",
              "        vertical-align: top;\n",
              "    }\n",
              "\n",
              "    .dataframe thead th {\n",
              "        text-align: right;\n",
              "    }\n",
              "</style>\n",
              "<table border=\"1\" class=\"dataframe\">\n",
              "  <thead>\n",
              "    <tr style=\"text-align: right;\">\n",
              "      <th></th>\n",
              "      <th>Age</th>\n",
              "      <th>Mother_Edu</th>\n",
              "      <th>Father_Edu</th>\n",
              "      <th>FamilySize</th>\n",
              "      <th>Self_Esteem</th>\n",
              "      <th>Height</th>\n",
              "      <th>Weight</th>\n",
              "      <th>Income</th>\n",
              "      <th>Urban</th>\n",
              "    </tr>\n",
              "  </thead>\n",
              "  <tbody>\n",
              "    <tr>\n",
              "      <th>1</th>\n",
              "      <td>20</td>\n",
              "      <td>5.0</td>\n",
              "      <td>8.0</td>\n",
              "      <td>5</td>\n",
              "      <td>16.0</td>\n",
              "      <td>62.0</td>\n",
              "      <td>120.0</td>\n",
              "      <td>0.0</td>\n",
              "      <td>1.0</td>\n",
              "    </tr>\n",
              "    <tr>\n",
              "      <th>5</th>\n",
              "      <td>19</td>\n",
              "      <td>12.0</td>\n",
              "      <td>12.0</td>\n",
              "      <td>4</td>\n",
              "      <td>27.0</td>\n",
              "      <td>64.0</td>\n",
              "      <td>200.0</td>\n",
              "      <td>40000.0</td>\n",
              "      <td>1.0</td>\n",
              "    </tr>\n",
              "    <tr>\n",
              "      <th>6</th>\n",
              "      <td>15</td>\n",
              "      <td>12.0</td>\n",
              "      <td>12.0</td>\n",
              "      <td>3</td>\n",
              "      <td>26.0</td>\n",
              "      <td>65.0</td>\n",
              "      <td>131.0</td>\n",
              "      <td>25000.0</td>\n",
              "      <td>1.0</td>\n",
              "    </tr>\n",
              "    <tr>\n",
              "      <th>7</th>\n",
              "      <td>21</td>\n",
              "      <td>9.0</td>\n",
              "      <td>6.0</td>\n",
              "      <td>3</td>\n",
              "      <td>23.0</td>\n",
              "      <td>65.0</td>\n",
              "      <td>179.0</td>\n",
              "      <td>27400.0</td>\n",
              "      <td>1.0</td>\n",
              "    </tr>\n",
              "    <tr>\n",
              "      <th>8</th>\n",
              "      <td>16</td>\n",
              "      <td>12.0</td>\n",
              "      <td>10.0</td>\n",
              "      <td>6</td>\n",
              "      <td>26.0</td>\n",
              "      <td>66.0</td>\n",
              "      <td>145.0</td>\n",
              "      <td>52000.0</td>\n",
              "      <td>1.0</td>\n",
              "    </tr>\n",
              "    <tr>\n",
              "      <th>...</th>\n",
              "      <td>...</td>\n",
              "      <td>...</td>\n",
              "      <td>...</td>\n",
              "      <td>...</td>\n",
              "      <td>...</td>\n",
              "      <td>...</td>\n",
              "      <td>...</td>\n",
              "      <td>...</td>\n",
              "      <td>...</td>\n",
              "    </tr>\n",
              "    <tr>\n",
              "      <th>12557</th>\n",
              "      <td>20</td>\n",
              "      <td>12.0</td>\n",
              "      <td>12.0</td>\n",
              "      <td>5</td>\n",
              "      <td>20.0</td>\n",
              "      <td>60.0</td>\n",
              "      <td>110.0</td>\n",
              "      <td>1000.0</td>\n",
              "      <td>1.0</td>\n",
              "    </tr>\n",
              "    <tr>\n",
              "      <th>12565</th>\n",
              "      <td>20</td>\n",
              "      <td>12.0</td>\n",
              "      <td>11.0</td>\n",
              "      <td>2</td>\n",
              "      <td>24.0</td>\n",
              "      <td>63.0</td>\n",
              "      <td>152.0</td>\n",
              "      <td>38000.0</td>\n",
              "      <td>1.0</td>\n",
              "    </tr>\n",
              "    <tr>\n",
              "      <th>12647</th>\n",
              "      <td>21</td>\n",
              "      <td>16.0</td>\n",
              "      <td>12.0</td>\n",
              "      <td>1</td>\n",
              "      <td>30.0</td>\n",
              "      <td>70.0</td>\n",
              "      <td>180.0</td>\n",
              "      <td>43600.0</td>\n",
              "      <td>1.0</td>\n",
              "    </tr>\n",
              "    <tr>\n",
              "      <th>12651</th>\n",
              "      <td>21</td>\n",
              "      <td>16.0</td>\n",
              "      <td>16.0</td>\n",
              "      <td>1</td>\n",
              "      <td>27.0</td>\n",
              "      <td>73.0</td>\n",
              "      <td>170.0</td>\n",
              "      <td>40000.0</td>\n",
              "      <td>1.0</td>\n",
              "    </tr>\n",
              "    <tr>\n",
              "      <th>12678</th>\n",
              "      <td>21</td>\n",
              "      <td>8.0</td>\n",
              "      <td>8.0</td>\n",
              "      <td>1</td>\n",
              "      <td>19.0</td>\n",
              "      <td>70.0</td>\n",
              "      <td>180.0</td>\n",
              "      <td>17000.0</td>\n",
              "      <td>0.0</td>\n",
              "    </tr>\n",
              "  </tbody>\n",
              "</table>\n",
              "<p>5683 rows × 9 columns</p>\n",
              "</div>\n",
              "    <div class=\"colab-df-buttons\">\n",
              "\n",
              "  <div class=\"colab-df-container\">\n",
              "    <button class=\"colab-df-convert\" onclick=\"convertToInteractive('df-7d332c41-565f-49a7-8a4e-ece90ae574dd')\"\n",
              "            title=\"Convert this dataframe to an interactive table.\"\n",
              "            style=\"display:none;\">\n",
              "\n",
              "  <svg xmlns=\"http://www.w3.org/2000/svg\" height=\"24px\" viewBox=\"0 -960 960 960\">\n",
              "    <path d=\"M120-120v-720h720v720H120Zm60-500h600v-160H180v160Zm220 220h160v-160H400v160Zm0 220h160v-160H400v160ZM180-400h160v-160H180v160Zm440 0h160v-160H620v160ZM180-180h160v-160H180v160Zm440 0h160v-160H620v160Z\"/>\n",
              "  </svg>\n",
              "    </button>\n",
              "\n",
              "  <style>\n",
              "    .colab-df-container {\n",
              "      display:flex;\n",
              "      gap: 12px;\n",
              "    }\n",
              "\n",
              "    .colab-df-convert {\n",
              "      background-color: #E8F0FE;\n",
              "      border: none;\n",
              "      border-radius: 50%;\n",
              "      cursor: pointer;\n",
              "      display: none;\n",
              "      fill: #1967D2;\n",
              "      height: 32px;\n",
              "      padding: 0 0 0 0;\n",
              "      width: 32px;\n",
              "    }\n",
              "\n",
              "    .colab-df-convert:hover {\n",
              "      background-color: #E2EBFA;\n",
              "      box-shadow: 0px 1px 2px rgba(60, 64, 67, 0.3), 0px 1px 3px 1px rgba(60, 64, 67, 0.15);\n",
              "      fill: #174EA6;\n",
              "    }\n",
              "\n",
              "    .colab-df-buttons div {\n",
              "      margin-bottom: 4px;\n",
              "    }\n",
              "\n",
              "    [theme=dark] .colab-df-convert {\n",
              "      background-color: #3B4455;\n",
              "      fill: #D2E3FC;\n",
              "    }\n",
              "\n",
              "    [theme=dark] .colab-df-convert:hover {\n",
              "      background-color: #434B5C;\n",
              "      box-shadow: 0px 1px 3px 1px rgba(0, 0, 0, 0.15);\n",
              "      filter: drop-shadow(0px 1px 2px rgba(0, 0, 0, 0.3));\n",
              "      fill: #FFFFFF;\n",
              "    }\n",
              "  </style>\n",
              "\n",
              "    <script>\n",
              "      const buttonEl =\n",
              "        document.querySelector('#df-7d332c41-565f-49a7-8a4e-ece90ae574dd button.colab-df-convert');\n",
              "      buttonEl.style.display =\n",
              "        google.colab.kernel.accessAllowed ? 'block' : 'none';\n",
              "\n",
              "      async function convertToInteractive(key) {\n",
              "        const element = document.querySelector('#df-7d332c41-565f-49a7-8a4e-ece90ae574dd');\n",
              "        const dataTable =\n",
              "          await google.colab.kernel.invokeFunction('convertToInteractive',\n",
              "                                                    [key], {});\n",
              "        if (!dataTable) return;\n",
              "\n",
              "        const docLinkHtml = 'Like what you see? Visit the ' +\n",
              "          '<a target=\"_blank\" href=https://colab.research.google.com/notebooks/data_table.ipynb>data table notebook</a>'\n",
              "          + ' to learn more about interactive tables.';\n",
              "        element.innerHTML = '';\n",
              "        dataTable['output_type'] = 'display_data';\n",
              "        await google.colab.output.renderOutput(dataTable, element);\n",
              "        const docLink = document.createElement('div');\n",
              "        docLink.innerHTML = docLinkHtml;\n",
              "        element.appendChild(docLink);\n",
              "      }\n",
              "    </script>\n",
              "  </div>\n",
              "\n",
              "\n",
              "<div id=\"df-d0b04c37-4f28-4b34-82da-b726c4fe8fa1\">\n",
              "  <button class=\"colab-df-quickchart\" onclick=\"quickchart('df-d0b04c37-4f28-4b34-82da-b726c4fe8fa1')\"\n",
              "            title=\"Suggest charts\"\n",
              "            style=\"display:none;\">\n",
              "\n",
              "<svg xmlns=\"http://www.w3.org/2000/svg\" height=\"24px\"viewBox=\"0 0 24 24\"\n",
              "     width=\"24px\">\n",
              "    <g>\n",
              "        <path d=\"M19 3H5c-1.1 0-2 .9-2 2v14c0 1.1.9 2 2 2h14c1.1 0 2-.9 2-2V5c0-1.1-.9-2-2-2zM9 17H7v-7h2v7zm4 0h-2V7h2v10zm4 0h-2v-4h2v4z\"/>\n",
              "    </g>\n",
              "</svg>\n",
              "  </button>\n",
              "\n",
              "<style>\n",
              "  .colab-df-quickchart {\n",
              "      --bg-color: #E8F0FE;\n",
              "      --fill-color: #1967D2;\n",
              "      --hover-bg-color: #E2EBFA;\n",
              "      --hover-fill-color: #174EA6;\n",
              "      --disabled-fill-color: #AAA;\n",
              "      --disabled-bg-color: #DDD;\n",
              "  }\n",
              "\n",
              "  [theme=dark] .colab-df-quickchart {\n",
              "      --bg-color: #3B4455;\n",
              "      --fill-color: #D2E3FC;\n",
              "      --hover-bg-color: #434B5C;\n",
              "      --hover-fill-color: #FFFFFF;\n",
              "      --disabled-bg-color: #3B4455;\n",
              "      --disabled-fill-color: #666;\n",
              "  }\n",
              "\n",
              "  .colab-df-quickchart {\n",
              "    background-color: var(--bg-color);\n",
              "    border: none;\n",
              "    border-radius: 50%;\n",
              "    cursor: pointer;\n",
              "    display: none;\n",
              "    fill: var(--fill-color);\n",
              "    height: 32px;\n",
              "    padding: 0;\n",
              "    width: 32px;\n",
              "  }\n",
              "\n",
              "  .colab-df-quickchart:hover {\n",
              "    background-color: var(--hover-bg-color);\n",
              "    box-shadow: 0 1px 2px rgba(60, 64, 67, 0.3), 0 1px 3px 1px rgba(60, 64, 67, 0.15);\n",
              "    fill: var(--button-hover-fill-color);\n",
              "  }\n",
              "\n",
              "  .colab-df-quickchart-complete:disabled,\n",
              "  .colab-df-quickchart-complete:disabled:hover {\n",
              "    background-color: var(--disabled-bg-color);\n",
              "    fill: var(--disabled-fill-color);\n",
              "    box-shadow: none;\n",
              "  }\n",
              "\n",
              "  .colab-df-spinner {\n",
              "    border: 2px solid var(--fill-color);\n",
              "    border-color: transparent;\n",
              "    border-bottom-color: var(--fill-color);\n",
              "    animation:\n",
              "      spin 1s steps(1) infinite;\n",
              "  }\n",
              "\n",
              "  @keyframes spin {\n",
              "    0% {\n",
              "      border-color: transparent;\n",
              "      border-bottom-color: var(--fill-color);\n",
              "      border-left-color: var(--fill-color);\n",
              "    }\n",
              "    20% {\n",
              "      border-color: transparent;\n",
              "      border-left-color: var(--fill-color);\n",
              "      border-top-color: var(--fill-color);\n",
              "    }\n",
              "    30% {\n",
              "      border-color: transparent;\n",
              "      border-left-color: var(--fill-color);\n",
              "      border-top-color: var(--fill-color);\n",
              "      border-right-color: var(--fill-color);\n",
              "    }\n",
              "    40% {\n",
              "      border-color: transparent;\n",
              "      border-right-color: var(--fill-color);\n",
              "      border-top-color: var(--fill-color);\n",
              "    }\n",
              "    60% {\n",
              "      border-color: transparent;\n",
              "      border-right-color: var(--fill-color);\n",
              "    }\n",
              "    80% {\n",
              "      border-color: transparent;\n",
              "      border-right-color: var(--fill-color);\n",
              "      border-bottom-color: var(--fill-color);\n",
              "    }\n",
              "    90% {\n",
              "      border-color: transparent;\n",
              "      border-bottom-color: var(--fill-color);\n",
              "    }\n",
              "  }\n",
              "</style>\n",
              "\n",
              "  <script>\n",
              "    async function quickchart(key) {\n",
              "      const quickchartButtonEl =\n",
              "        document.querySelector('#' + key + ' button');\n",
              "      quickchartButtonEl.disabled = true;  // To prevent multiple clicks.\n",
              "      quickchartButtonEl.classList.add('colab-df-spinner');\n",
              "      try {\n",
              "        const charts = await google.colab.kernel.invokeFunction(\n",
              "            'suggestCharts', [key], {});\n",
              "      } catch (error) {\n",
              "        console.error('Error during call to suggestCharts:', error);\n",
              "      }\n",
              "      quickchartButtonEl.classList.remove('colab-df-spinner');\n",
              "      quickchartButtonEl.classList.add('colab-df-quickchart-complete');\n",
              "    }\n",
              "    (() => {\n",
              "      let quickchartButtonEl =\n",
              "        document.querySelector('#df-d0b04c37-4f28-4b34-82da-b726c4fe8fa1 button');\n",
              "      quickchartButtonEl.style.display =\n",
              "        google.colab.kernel.accessAllowed ? 'block' : 'none';\n",
              "    })();\n",
              "  </script>\n",
              "</div>\n",
              "\n",
              "  <div id=\"id_a492aaca-42de-44ae-9bff-d4263f25e649\">\n",
              "    <style>\n",
              "      .colab-df-generate {\n",
              "        background-color: #E8F0FE;\n",
              "        border: none;\n",
              "        border-radius: 50%;\n",
              "        cursor: pointer;\n",
              "        display: none;\n",
              "        fill: #1967D2;\n",
              "        height: 32px;\n",
              "        padding: 0 0 0 0;\n",
              "        width: 32px;\n",
              "      }\n",
              "\n",
              "      .colab-df-generate:hover {\n",
              "        background-color: #E2EBFA;\n",
              "        box-shadow: 0px 1px 2px rgba(60, 64, 67, 0.3), 0px 1px 3px 1px rgba(60, 64, 67, 0.15);\n",
              "        fill: #174EA6;\n",
              "      }\n",
              "\n",
              "      [theme=dark] .colab-df-generate {\n",
              "        background-color: #3B4455;\n",
              "        fill: #D2E3FC;\n",
              "      }\n",
              "\n",
              "      [theme=dark] .colab-df-generate:hover {\n",
              "        background-color: #434B5C;\n",
              "        box-shadow: 0px 1px 3px 1px rgba(0, 0, 0, 0.15);\n",
              "        filter: drop-shadow(0px 1px 2px rgba(0, 0, 0, 0.3));\n",
              "        fill: #FFFFFF;\n",
              "      }\n",
              "    </style>\n",
              "    <button class=\"colab-df-generate\" onclick=\"generateWithVariable('XDB')\"\n",
              "            title=\"Generate code using this dataframe.\"\n",
              "            style=\"display:none;\">\n",
              "\n",
              "  <svg xmlns=\"http://www.w3.org/2000/svg\" height=\"24px\"viewBox=\"0 0 24 24\"\n",
              "       width=\"24px\">\n",
              "    <path d=\"M7,19H8.4L18.45,9,17,7.55,7,17.6ZM5,21V16.75L18.45,3.32a2,2,0,0,1,2.83,0l1.4,1.43a1.91,1.91,0,0,1,.58,1.4,1.91,1.91,0,0,1-.58,1.4L9.25,21ZM18.45,9,17,7.55Zm-12,3A5.31,5.31,0,0,0,4.9,8.1,5.31,5.31,0,0,0,1,6.5,5.31,5.31,0,0,0,4.9,4.9,5.31,5.31,0,0,0,6.5,1,5.31,5.31,0,0,0,8.1,4.9,5.31,5.31,0,0,0,12,6.5,5.46,5.46,0,0,0,6.5,12Z\"/>\n",
              "  </svg>\n",
              "    </button>\n",
              "    <script>\n",
              "      (() => {\n",
              "      const buttonEl =\n",
              "        document.querySelector('#id_a492aaca-42de-44ae-9bff-d4263f25e649 button.colab-df-generate');\n",
              "      buttonEl.style.display =\n",
              "        google.colab.kernel.accessAllowed ? 'block' : 'none';\n",
              "\n",
              "      buttonEl.onclick = () => {\n",
              "        google.colab.notebook.generateWithVariable('XDB');\n",
              "      }\n",
              "      })();\n",
              "    </script>\n",
              "  </div>\n",
              "\n",
              "    </div>\n",
              "  </div>\n"
            ],
            "application/vnd.google.colaboratory.intrinsic+json": {
              "type": "dataframe",
              "variable_name": "XDB",
              "summary": "{\n  \"name\": \"XDB\",\n  \"rows\": 5683,\n  \"fields\": [\n    {\n      \"column\": \"Age\",\n      \"properties\": {\n        \"dtype\": \"number\",\n        \"std\": 2,\n        \"min\": 15,\n        \"max\": 22,\n        \"num_unique_values\": 8,\n        \"samples\": [\n          19,\n          22,\n          20\n        ],\n        \"semantic_type\": \"\",\n        \"description\": \"\"\n      }\n    },\n    {\n      \"column\": \"Mother_Edu\",\n      \"properties\": {\n        \"dtype\": \"number\",\n        \"std\": 3.1568407029254746,\n        \"min\": 0.0,\n        \"max\": 20.0,\n        \"num_unique_values\": 21,\n        \"samples\": [\n          5.0,\n          7.0,\n          2.0\n        ],\n        \"semantic_type\": \"\",\n        \"description\": \"\"\n      }\n    },\n    {\n      \"column\": \"Father_Edu\",\n      \"properties\": {\n        \"dtype\": \"number\",\n        \"std\": 3.9198092332557675,\n        \"min\": 0.0,\n        \"max\": 20.0,\n        \"num_unique_values\": 21,\n        \"samples\": [\n          8.0,\n          19.0,\n          7.0\n        ],\n        \"semantic_type\": \"\",\n        \"description\": \"\"\n      }\n    },\n    {\n      \"column\": \"FamilySize\",\n      \"properties\": {\n        \"dtype\": \"number\",\n        \"std\": 2,\n        \"min\": 1,\n        \"max\": 15,\n        \"num_unique_values\": 15,\n        \"samples\": [\n          11,\n          12,\n          5\n        ],\n        \"semantic_type\": \"\",\n        \"description\": \"\"\n      }\n    },\n    {\n      \"column\": \"Self_Esteem\",\n      \"properties\": {\n        \"dtype\": \"number\",\n        \"std\": 4.042256061802304,\n        \"min\": 7.0,\n        \"max\": 30.0,\n        \"num_unique_values\": 24,\n        \"samples\": [\n          17.0,\n          15.0,\n          16.0\n        ],\n        \"semantic_type\": \"\",\n        \"description\": \"\"\n      }\n    },\n    {\n      \"column\": \"Height\",\n      \"properties\": {\n        \"dtype\": \"number\",\n        \"std\": 4.036636551010935,\n        \"min\": 51.0,\n        \"max\": 80.0,\n        \"num_unique_values\": 28,\n        \"samples\": [\n          68.0,\n          56.0,\n          69.0\n        ],\n        \"semantic_type\": \"\",\n        \"description\": \"\"\n      }\n    },\n    {\n      \"column\": \"Weight\",\n      \"properties\": {\n        \"dtype\": \"number\",\n        \"std\": 30.12295067011298,\n        \"min\": 72.0,\n        \"max\": 375.0,\n        \"num_unique_values\": 163,\n        \"samples\": [\n          214.0,\n          216.0,\n          93.0\n        ],\n        \"semantic_type\": \"\",\n        \"description\": \"\"\n      }\n    },\n    {\n      \"column\": \"Income\",\n      \"properties\": {\n        \"dtype\": \"number\",\n        \"std\": 35280.94410974682,\n        \"min\": 0.0,\n        \"max\": 216200.0,\n        \"num_unique_values\": 599,\n        \"samples\": [\n          44200.0,\n          57600.0,\n          1988.0\n        ],\n        \"semantic_type\": \"\",\n        \"description\": \"\"\n      }\n    },\n    {\n      \"column\": \"Urban\",\n      \"properties\": {\n        \"dtype\": \"number\",\n        \"std\": 0.40476023024376423,\n        \"min\": 0.0,\n        \"max\": 1.0,\n        \"num_unique_values\": 2,\n        \"samples\": [\n          0.0,\n          1.0\n        ],\n        \"semantic_type\": \"\",\n        \"description\": \"\"\n      }\n    }\n  ]\n}"
            }
          },
          "metadata": {},
          "execution_count": 5
        }
      ]
    },
    {
      "cell_type": "markdown",
      "source": [
        "2. Implementacion NB"
      ],
      "metadata": {
        "id": "o7WhqyT-m-oi"
      }
    },
    {
      "cell_type": "code",
      "source": [
        "mnb=GaussianNB()\n",
        "mnb.fit(XD,YD)\n",
        "ydp=mnb.predict(XD) # Now ydp is defined\n",
        "\n",
        "#Parametros de modelo por categoria - Urbana o rural\n",
        "u=mnb.theta_\n",
        "sigma=np.sqrt(mnb.var_)\n",
        "\n",
        "#Variaciones de las variables\n",
        "LI=u-sigma\n",
        "LS=u+sigma\n",
        "\n",
        "print('La media de las variables por categoria es:')\n",
        "print(u)\n",
        "print('El limite inferior de variacion por categoria es:')\n",
        "print(LI)\n",
        "print('El limite superior de variacion por categoria es:')\n",
        "print(LS)\n",
        "\n",
        "# Metrica de evaluacion- Como se comporto el modelo identificando\n",
        "cm=confusion_matrix(YD,ydp)  # Changed yd to YD to match the variable definition\n",
        "print('La matriz de confusion es:')\n",
        "print(cm)\n"
      ],
      "metadata": {
        "colab": {
          "base_uri": "https://localhost:8080/"
        },
        "id": "Yoejslumpmf0",
        "outputId": "e1ac0609-3020-4863-c7d1-66898ebfcd27"
      },
      "execution_count": null,
      "outputs": [
        {
          "output_type": "stream",
          "name": "stdout",
          "text": [
            "La media de las variables por categoria es:\n",
            "[[1.83810742e+01 1.07612958e+01 1.03324808e+01 4.74168798e+00\n",
            "  2.20272805e+01 6.72148338e+01 1.48857630e+02 3.03672506e+04]\n",
            " [1.83569845e+01 1.11769401e+01 1.12565410e+01 4.68780488e+00\n",
            "  2.26004435e+01 6.69031042e+01 1.44760976e+02 3.34278929e+04]]\n",
            "El limite inferior de variacion por categoria es:\n",
            "[[ 1.58996876e+01  7.58892579e+00  6.46311334e+00  2.16621834e+00\n",
            "   1.78344685e+01  6.31369799e+01  1.18746964e+02 -1.33465823e+03]\n",
            " [ 1.58811112e+01  7.79013864e+00  7.15097738e+00  2.24996381e+00\n",
            "   1.84154526e+01  6.26897933e+01  1.14669654e+02 -2.69533531e+03]]\n",
            "El limite superior de variacion por categoria es:\n",
            "[[2.08624608e+01 1.39336659e+01 1.42018483e+01 7.31715762e+00\n",
            "  2.62200925e+01 7.12926877e+01 1.78968296e+02 6.20691595e+04]\n",
            " [2.08328577e+01 1.45637416e+01 1.53621047e+01 7.12564594e+00\n",
            "  2.67854344e+01 7.11164151e+01 1.74852297e+02 6.95511211e+04]]\n",
            "La matriz de confusion es:\n",
            "[[   2 1171]\n",
            " [   4 4506]]\n"
          ]
        }
      ]
    },
    {
      "cell_type": "markdown",
      "source": [
        "3. Evaluamos el modelo"
      ],
      "metadata": {
        "id": "wPUWE1ksqiMk"
      }
    },
    {
      "cell_type": "code",
      "source": [
        "VN=cm[0,0] #Verdaderos Negativos\n",
        "FP=cm[0,1] #Falsos positivos\n",
        "FN=cm[1,0] #Falsos negativos\n",
        "VP=cm[1,1] #Verdaderos positivos\n",
        "\n",
        "Exactitud=(VP+VN)/len(XD)\n",
        "print('La exactitud del modelo es:', Exactitud)\n",
        "Tasa_Error=(FN+FP)/len(XD)\n",
        "print('La tasa de error del modelo es:', Tasa_Error)\n",
        "Sensibilidad=VP/(VP+FP)\n",
        "print('La sensibilidad del modelo es:', Sensibilidad)\n",
        "Especificidad=VN/(VN+FN)\n",
        "print('La especificidad del modelo es:', Especificidad)\n",
        "Precision=VP/(VP+FN)\n",
        "print('La precision del modelo es:', Precision)\n",
        "#"
      ],
      "metadata": {
        "id": "KR-baZUPrKty",
        "colab": {
          "base_uri": "https://localhost:8080/"
        },
        "outputId": "9f96732b-c409-44ca-ff17-77f995ce379a"
      },
      "execution_count": null,
      "outputs": [
        {
          "output_type": "stream",
          "name": "stdout",
          "text": [
            "La exactitud del modelo es: 0.7932430054548654\n",
            "La tasa de error del modelo es: 0.2067569945451346\n",
            "La sensibilidad del modelo es: 0.793729082261758\n",
            "La especificidad del modelo es: 0.3333333333333333\n",
            "La precision del modelo es: 0.9991130820399113\n"
          ]
        }
      ]
    },
    {
      "cell_type": "markdown",
      "source": [
        "4. Ejemplo de una persona con las caracteristicas dadas"
      ],
      "metadata": {
        "id": "vOSPCzESrOCd"
      }
    },
    {
      "cell_type": "code",
      "source": [
        "Xun=np.array([[34,9,5,3,30,65,135,50000]]) #Persona Especifica\n",
        "ydun=mnb.predict(Xun)\n",
        "print(ydun)\n"
      ],
      "metadata": {
        "id": "MPvIlKgksx5R",
        "colab": {
          "base_uri": "https://localhost:8080/"
        },
        "outputId": "6fde5b76-a18f-4119-8097-f334c6818478"
      },
      "execution_count": null,
      "outputs": [
        {
          "output_type": "stream",
          "name": "stdout",
          "text": [
            "[1.]\n"
          ]
        }
      ]
    },
    {
      "cell_type": "markdown",
      "source": [
        "Segun el modelo, esta persona perteneceria al grupo Urbano indicaado con el numero 1"
      ],
      "metadata": {
        "id": "znkRcbHzrelT"
      }
    },
    {
      "cell_type": "markdown",
      "source": [
        "Porcentaje de los datos de las variables en urban"
      ],
      "metadata": {
        "id": "3jOOSViWrpvm"
      }
    },
    {
      "cell_type": "code",
      "source": [
        "XDB['Urban'].value_counts()\n",
        "U=(4510/5683)*100\n",
        "R=(1173/5683)*100\n",
        "print('El porcentaje de los datos de las dos variables en urban es:')\n",
        "print('El porcentaje de poblacion Urbana es:', U)\n",
        "print('El porcentaje de poblacion Rural es:', R)\n",
        "#"
      ],
      "metadata": {
        "id": "MFHdvxLEtPRV",
        "colab": {
          "base_uri": "https://localhost:8080/"
        },
        "outputId": "0c5ab59c-6ab5-4e82-c2e7-4a7459339f8a"
      },
      "execution_count": null,
      "outputs": [
        {
          "output_type": "stream",
          "name": "stdout",
          "text": [
            "El porcentaje de los datos de las dos variables en urban es:\n",
            "El porcentaje de poblacion Urbana es: 79.35949322540911\n",
            "El porcentaje de poblacion Rural es: 20.640506774590886\n"
          ]
        }
      ]
    },
    {
      "cell_type": "markdown",
      "source": [
        "Analisis"
      ],
      "metadata": {
        "id": "lNAf60WFr0sk"
      }
    },
    {
      "cell_type": "markdown",
      "source": [
        "En cuanto a los resultados de las matrices, se observa que el modelo tuvo un mejor desempeño al clasificar a las personas como **urbano**, con una precisión del **79%** según el indicador de sensibilidad. En general, el modelo alcanzó una exactitud promedio superior al **79%** y una tasa de error promedio cercana al **21%**. Esta precisión lo convierte en un modelo **fiable**. Por ejemplo, al introducir las características de una persona como ['Edad', 'Educación de la madre', 'Educación del padre', 'Altura', 'Peso', 'Ingresos', 'Autoestima', 'Tamaño de la familia'] = [34, 9, 6, 65, 135, 50000, 30, 3], el modelo predice una clasificación de \"1\", lo que se interpreta como **urbano**"
      ],
      "metadata": {
        "id": "hJWq4wHGwiwa"
      }
    },
    {
      "cell_type": "markdown",
      "source": [
        "**Survey**"
      ],
      "metadata": {
        "id": "EYJ3SbTwtOVZ"
      }
    },
    {
      "cell_type": "code",
      "source": [
        "# ¿Cuál es el número de datos total de la base de datos?\n",
        "\n",
        "total_data_points = len(XDB)\n",
        "print(\"El numero total de datos es: \", total_data_points)\n"
      ],
      "metadata": {
        "colab": {
          "base_uri": "https://localhost:8080/"
        },
        "id": "dLOMxpWgtR81",
        "outputId": "d1d665f0-4944-4cd9-8b02-612f5d09cfbf"
      },
      "execution_count": null,
      "outputs": [
        {
          "output_type": "stream",
          "name": "stdout",
          "text": [
            "El numero total de datos es:  5683\n"
          ]
        }
      ]
    },
    {
      "cell_type": "markdown",
      "source": [
        "El numero total de datos que hay en la base de datos del excel fue de 12.687, luego de eliminar las filas con datos faltantes o inexistentes el valor total de datos que queda de cada columna es de 5.683"
      ],
      "metadata": {
        "id": "GCVrO40Ftvr9"
      }
    },
    {
      "cell_type": "code",
      "source": [
        "# Se calcula el porcentjae de distribución en la categoría de 'Age'\n",
        "Age_porcentaje = XDB['Age'].value_counts(normalize=True) * 100\n",
        "\n",
        "# Mostrar los porcentajes\n",
        "print(Age_porcentaje)"
      ],
      "metadata": {
        "colab": {
          "base_uri": "https://localhost:8080/"
        },
        "id": "NiYVcHp0t-L2",
        "outputId": "b390a6dc-3248-41cf-adac-da9b9ce3fdcf"
      },
      "execution_count": null,
      "outputs": [
        {
          "output_type": "stream",
          "name": "stdout",
          "text": [
            "Age\n",
            "17    14.235439\n",
            "18    13.936301\n",
            "19    13.672356\n",
            "16    13.584374\n",
            "15    11.543199\n",
            "20    11.261658\n",
            "21    11.032905\n",
            "22    10.733767\n",
            "Name: proportion, dtype: float64\n"
          ]
        }
      ]
    },
    {
      "cell_type": "markdown",
      "source": [
        "Porcentaje de datos de cada  categoria de clasificacion"
      ],
      "metadata": {
        "id": "tTR7dtUVxKbH"
      }
    },
    {
      "cell_type": "code",
      "source": [
        "# Se calcula el porcentjae de distribución en la categoría de 'Father_Edu'\n",
        "FatherEdu_porcentaje = XDB['Father_Edu'].value_counts(normalize=True) * 100\n",
        "\n",
        "# Mostrar los porcentajes\n",
        "print(FatherEdu_porcentaje)"
      ],
      "metadata": {
        "colab": {
          "base_uri": "https://localhost:8080/"
        },
        "id": "mOY9evALuYeG",
        "outputId": "2d07d45d-7ddd-490b-bebf-6152374cad8b"
      },
      "execution_count": null,
      "outputs": [
        {
          "output_type": "stream",
          "name": "stdout",
          "text": [
            "Father_Edu\n",
            "12.0    34.594404\n",
            "16.0     8.534225\n",
            "8.0      7.636812\n",
            "10.0     6.686609\n",
            "14.0     5.507654\n",
            "11.0     5.454865\n",
            "9.0      5.226113\n",
            "6.0      4.451874\n",
            "13.0     2.850607\n",
            "7.0      2.709836\n",
            "18.0     2.164350\n",
            "4.0      1.918001\n",
            "0.0      1.812423\n",
            "3.0      1.794827\n",
            "20.0     1.777230\n",
            "5.0      1.742038\n",
            "15.0     1.689249\n",
            "17.0     1.530882\n",
            "2.0      1.002991\n",
            "19.0     0.527890\n",
            "1.0      0.387119\n",
            "Name: proportion, dtype: float64\n"
          ]
        }
      ]
    },
    {
      "cell_type": "code",
      "source": [
        "# Se calcula el porcentjae de disbtribución en la categoría de 'Mother_Edu'\n",
        "MotherEdu_porcentaje = XDB['Mother_Edu'].value_counts(normalize=True) * 100\n",
        "\n",
        "# Mostrar los porcentajes\n",
        "print(MotherEdu_porcentaje)"
      ],
      "metadata": {
        "colab": {
          "base_uri": "https://localhost:8080/"
        },
        "id": "Bv2zhZ8jumsU",
        "outputId": "272a5e35-7b2b-465e-e537-06608e25561f"
      },
      "execution_count": null,
      "outputs": [
        {
          "output_type": "stream",
          "name": "stdout",
          "text": [
            "Mother_Edu\n",
            "12.0    42.688721\n",
            "11.0     8.710188\n",
            "10.0     7.865564\n",
            "16.0     6.405068\n",
            "8.0      5.666021\n",
            "14.0     5.190920\n",
            "9.0      4.821397\n",
            "13.0     3.519268\n",
            "6.0      3.360901\n",
            "7.0      1.794827\n",
            "15.0     1.513285\n",
            "5.0      1.513285\n",
            "4.0      1.425304\n",
            "3.0      1.372515\n",
            "17.0     1.073377\n",
            "0.0      1.073377\n",
            "18.0     0.791835\n",
            "2.0      0.721450\n",
            "1.0      0.193560\n",
            "19.0     0.175963\n",
            "20.0     0.123174\n",
            "Name: proportion, dtype: float64\n"
          ]
        }
      ]
    },
    {
      "cell_type": "code",
      "source": [
        "# Se calcula el porcentjae de disbtribución en la categoría de 'Height'\n",
        "Height_porcentaje = XDB['Height'].value_counts(normalize=True) * 100\n",
        "\n",
        "# Mostrar los porcentajes\n",
        "print(Height_porcentaje)"
      ],
      "metadata": {
        "colab": {
          "base_uri": "https://localhost:8080/"
        },
        "id": "Mdt3-X2GuwuU",
        "outputId": "53e894c6-9a7d-4b79-ce70-fac4ed6aefb4"
      },
      "execution_count": null,
      "outputs": [
        {
          "output_type": "stream",
          "name": "stdout",
          "text": [
            "Height\n",
            "67.0    9.449235\n",
            "64.0    9.326060\n",
            "66.0    9.079711\n",
            "68.0    7.707197\n",
            "65.0    7.408059\n",
            "63.0    7.144114\n",
            "62.0    6.880169\n",
            "72.0    6.651417\n",
            "70.0    6.581031\n",
            "71.0    6.528242\n",
            "69.0    6.229104\n",
            "73.0    4.047158\n",
            "61.0    3.519268\n",
            "74.0    2.780222\n",
            "60.0    2.692240\n",
            "75.0    1.214147\n",
            "59.0    0.950202\n",
            "76.0    0.756643\n",
            "77.0    0.369523\n",
            "58.0    0.228752\n",
            "57.0    0.158367\n",
            "78.0    0.087982\n",
            "56.0    0.052789\n",
            "55.0    0.035193\n",
            "51.0    0.035193\n",
            "79.0    0.035193\n",
            "53.0    0.035193\n",
            "80.0    0.017596\n",
            "Name: proportion, dtype: float64\n"
          ]
        }
      ]
    },
    {
      "cell_type": "code",
      "source": [
        "# Se calcula el porcentjae de disbtribución en la categoría de 'Father_Edu'\n",
        "Weight_porcentaje = XDB['Weight'].value_counts(normalize=True) * 100\n",
        "\n",
        "# Mostrar los porcentajes\n",
        "print(Weight_porcentaje)"
      ],
      "metadata": {
        "colab": {
          "base_uri": "https://localhost:8080/"
        },
        "id": "FFwhagCzuz3x",
        "outputId": "d0d0b42d-1ea3-4983-e1ee-7bdfa213a129"
      },
      "execution_count": null,
      "outputs": [
        {
          "output_type": "stream",
          "name": "stdout",
          "text": [
            "Weight\n",
            "140.0    5.560443\n",
            "130.0    5.226113\n",
            "120.0    5.102939\n",
            "150.0    4.874186\n",
            "135.0    4.663030\n",
            "           ...   \n",
            "229.0    0.017596\n",
            "246.0    0.017596\n",
            "226.0    0.017596\n",
            "290.0    0.017596\n",
            "201.0    0.017596\n",
            "Name: proportion, Length: 163, dtype: float64\n"
          ]
        }
      ]
    },
    {
      "cell_type": "code",
      "source": [
        "# Se calcula el porcentjae de disbtribución en la categoría de 'Father_Edu'\n",
        "Income_porcentaje = XDB['Income'].value_counts(normalize=True) * 100\n",
        "\n",
        "# Mostrar los porcentajes\n",
        "print(Income_porcentaje)"
      ],
      "metadata": {
        "colab": {
          "base_uri": "https://localhost:8080/"
        },
        "id": "Y5c8DSjeu8BB",
        "outputId": "1e419bda-e1fa-44e8-96e1-ed2b6dee5cbc"
      },
      "execution_count": null,
      "outputs": [
        {
          "output_type": "stream",
          "name": "stdout",
          "text": [
            "Income\n",
            "0.0        13.672356\n",
            "30000.0     2.797818\n",
            "25000.0     2.604258\n",
            "35000.0     2.375506\n",
            "40000.0     2.305121\n",
            "             ...    \n",
            "7.0         0.017596\n",
            "17188.0     0.017596\n",
            "540.0       0.017596\n",
            "50100.0     0.017596\n",
            "43600.0     0.017596\n",
            "Name: proportion, Length: 599, dtype: float64\n"
          ]
        }
      ]
    },
    {
      "cell_type": "code",
      "source": [
        "# Se calcula el porcentjae de disbtribución en la categoría de 'Father_Edu'\n",
        "SelfEsteem_porcentaje = XDB['Self_Esteem'].value_counts(normalize=True) * 100\n",
        "\n",
        "# Mostrar los porcentajes\n",
        "print(SelfEsteem_porcentaje)"
      ],
      "metadata": {
        "colab": {
          "base_uri": "https://localhost:8080/"
        },
        "id": "A70PsZhFu_yQ",
        "outputId": "68254c58-3159-4e49-851a-870d1b90f9a9"
      },
      "execution_count": null,
      "outputs": [
        {
          "output_type": "stream",
          "name": "stdout",
          "text": [
            "Self_Esteem\n",
            "20.0    10.856942\n",
            "19.0     8.393454\n",
            "23.0     8.252683\n",
            "22.0     8.023931\n",
            "21.0     7.636812\n",
            "18.0     7.355270\n",
            "24.0     7.232096\n",
            "25.0     6.669013\n",
            "26.0     6.493049\n",
            "27.0     6.088334\n",
            "30.0     5.208517\n",
            "28.0     4.399085\n",
            "17.0     4.399085\n",
            "29.0     3.589653\n",
            "16.0     2.569066\n",
            "15.0     1.513285\n",
            "14.0     0.580679\n",
            "13.0     0.351927\n",
            "11.0     0.158367\n",
            "12.0     0.123174\n",
            "10.0     0.052789\n",
            "7.0      0.017596\n",
            "8.0      0.017596\n",
            "9.0      0.017596\n",
            "Name: proportion, dtype: float64\n"
          ]
        }
      ]
    },
    {
      "cell_type": "code",
      "source": [
        "# Se calcula el porcentjae de disbtribución en la categoría de 'Father_Edu'\n",
        "FamilySize_porcentaje = XDB['FamilySize'].value_counts(normalize=True) * 100\n",
        "\n",
        "# Mostrar los porcentajes\n",
        "print(FamilySize_porcentaje)"
      ],
      "metadata": {
        "colab": {
          "base_uri": "https://localhost:8080/"
        },
        "id": "AQANqUkdvCtv",
        "outputId": "f7b2acc7-2ad8-4972-a0b7-83eae3fdaa3f"
      },
      "execution_count": null,
      "outputs": [
        {
          "output_type": "stream",
          "name": "stdout",
          "text": [
            "FamilySize\n",
            "5     19.672708\n",
            "4     19.637515\n",
            "3     15.625550\n",
            "6     13.619567\n",
            "2      7.513637\n",
            "7      7.372866\n",
            "1      6.616224\n",
            "8      4.416681\n",
            "9      2.357910\n",
            "10     1.689249\n",
            "11     0.897413\n",
            "15     0.211156\n",
            "12     0.193560\n",
            "13     0.140771\n",
            "14     0.035193\n",
            "Name: proportion, dtype: float64\n"
          ]
        }
      ]
    },
    {
      "cell_type": "code",
      "source": [
        "# Se calcula el porcentjae de disbtribución en la categoría de 'Father_Edu'\n",
        "Urban_porcentaje = XDB['Urban'].value_counts(normalize=True) * 100\n",
        "\n",
        "# Mostrar los porcentajes\n",
        "print(Urban_porcentaje)"
      ],
      "metadata": {
        "colab": {
          "base_uri": "https://localhost:8080/"
        },
        "id": "EcoiR57ZvHGj",
        "outputId": "4390b831-1487-4d4f-e15e-c0aebc93bf09"
      },
      "execution_count": null,
      "outputs": [
        {
          "output_type": "stream",
          "name": "stdout",
          "text": [
            "Urban\n",
            "1.0    79.359493\n",
            "0.0    20.640507\n",
            "Name: proportion, dtype: float64\n"
          ]
        }
      ]
    },
    {
      "cell_type": "markdown",
      "source": [
        "3. intervalo de variacion de edad"
      ],
      "metadata": {
        "id": "VbKHuPCUyFbJ"
      }
    },
    {
      "cell_type": "code",
      "source": [
        "min_age = XDB['Age'].min()\n",
        "max_age = XDB['Age'].max()\n",
        "\n",
        "print(\"El intervalo de la variable Age es: [{}, {}]\".format(min_age, max_age))\n",
        "\n",
        "print(\"La media de la variable Age es: 18.5 \")"
      ],
      "metadata": {
        "colab": {
          "base_uri": "https://localhost:8080/"
        },
        "id": "iCe0MbHVvOZ4",
        "outputId": "3708deeb-3a8c-48f1-fec6-bf58be4eb5b8"
      },
      "execution_count": null,
      "outputs": [
        {
          "output_type": "stream",
          "name": "stdout",
          "text": [
            "El intervalo de la variable Age es: [15, 22]\n",
            "La media de la variable Age es: 18.5 \n"
          ]
        }
      ]
    },
    {
      "cell_type": "markdown",
      "source": [
        "4. Intervalo de variacion de altura"
      ],
      "metadata": {
        "id": "MOMtSjTWywHx"
      }
    },
    {
      "cell_type": "code",
      "source": [
        "min_height = XDB['Height'].min()\n",
        "max_height = XDB['Height'].max()\n",
        "\n",
        "print(\"El intervalo de la variable Height es: [{}, {}]\".format(min_height, max_height))\n",
        "print(\"La media de la variable Height es: 65.5 \")"
      ],
      "metadata": {
        "colab": {
          "base_uri": "https://localhost:8080/"
        },
        "id": "okYwcEg7vYMi",
        "outputId": "97779333-16b4-4c10-97c6-f307e2305ee4"
      },
      "execution_count": null,
      "outputs": [
        {
          "output_type": "stream",
          "name": "stdout",
          "text": [
            "El intervalo de la variable Height es: [51.0, 80.0]\n",
            "La media de la variable Age es: 65.5 \n"
          ]
        }
      ]
    },
    {
      "cell_type": "markdown",
      "source": [
        "5. Intervalo de variacion de peso"
      ],
      "metadata": {
        "id": "-UugV3SEzQ5N"
      }
    },
    {
      "cell_type": "code",
      "source": [
        "# Calcular el valor mínimo y máximo de la columna 'Weight'\n",
        "min_weight = XDB['Weight'].min()\n",
        "max_weight = XDB['Weight'].max()\n",
        "\n",
        "print(\"El intervalo de la variable Weight es: [{}, {}]\".format(min_weight, max_weight))\n",
        "print(\"La media de la variable Weight es: 223.5 \")"
      ],
      "metadata": {
        "colab": {
          "base_uri": "https://localhost:8080/"
        },
        "id": "IxohKzKWvcI6",
        "outputId": "7c9f1e3f-0093-4801-e165-3d388ac2d13c"
      },
      "execution_count": null,
      "outputs": [
        {
          "output_type": "stream",
          "name": "stdout",
          "text": [
            "El intervalo de la variable Weight es: [72.0, 375.0]\n",
            "La media de la variable Weight es: 223.5 \n"
          ]
        }
      ]
    },
    {
      "cell_type": "markdown",
      "source": [
        "6. Exactitud del modelo"
      ],
      "metadata": {
        "id": "_4NS3QbOz81C"
      }
    },
    {
      "cell_type": "code",
      "source": [
        "Exactitud=(VP+VN)/len(XD) #LEN son el total de los datos\n",
        "print(\"La exactitud del modelo es:\")\n",
        "print(Exactitud) #Comportamiento general"
      ],
      "metadata": {
        "colab": {
          "base_uri": "https://localhost:8080/"
        },
        "id": "voNiZ5UGvgR4",
        "outputId": "2453179f-ea58-4b59-aa41-eb11ac7afdb1"
      },
      "execution_count": null,
      "outputs": [
        {
          "output_type": "stream",
          "name": "stdout",
          "text": [
            "La exactitud del modelo es:\n",
            "0.7932430054548654\n"
          ]
        }
      ]
    },
    {
      "cell_type": "markdown",
      "source": [
        "7. Tasa de error del modelo"
      ],
      "metadata": {
        "id": "JqW_HfRF0BkI"
      }
    },
    {
      "cell_type": "code",
      "source": [
        "TE=(FN+FP)/len(XD) #Tasa de Error\n",
        "print(\"La tasa de error del modelo es:\")\n",
        "print(TE) #Porcentaje de equivocaciones"
      ],
      "metadata": {
        "colab": {
          "base_uri": "https://localhost:8080/"
        },
        "id": "g5CT1IK-vljl",
        "outputId": "33516784-3196-4d6f-e077-f6ada1d84028"
      },
      "execution_count": null,
      "outputs": [
        {
          "output_type": "stream",
          "name": "stdout",
          "text": [
            "La tasa de error del modelo es:\n",
            "0.2067569945451346\n"
          ]
        }
      ]
    },
    {
      "cell_type": "markdown",
      "source": [
        "8. Sensibilidad del modelo"
      ],
      "metadata": {
        "id": "bFBSYUlZ0P6J"
      }
    },
    {
      "cell_type": "code",
      "source": [
        "sensibilidad=VP/(VP+FP) #Como se comportó frente a los positivos\n",
        "print(\"La sensibilidad del modelo es:\")\n",
        "print(sensibilidad)"
      ],
      "metadata": {
        "colab": {
          "base_uri": "https://localhost:8080/"
        },
        "id": "AXFrse6dvo7K",
        "outputId": "a301cb85-57a9-4d59-90ac-2915f88b917d"
      },
      "execution_count": null,
      "outputs": [
        {
          "output_type": "stream",
          "name": "stdout",
          "text": [
            "La sensibilidad del modelo es:\n",
            "0.793729082261758\n"
          ]
        }
      ]
    },
    {
      "cell_type": "markdown",
      "source": [
        "9. Espicificidad del modelo"
      ],
      "metadata": {
        "id": "1JDyfsrY0U0K"
      }
    },
    {
      "cell_type": "code",
      "source": [
        "Especificidad=VN/(VN+FN) #Como se comportó frente a los negativos\n",
        "print(\"La especificidad del modelo es:\")\n",
        "print(Especificidad)"
      ],
      "metadata": {
        "colab": {
          "base_uri": "https://localhost:8080/"
        },
        "id": "W7hp2zvFvstA",
        "outputId": "a875e687-6a38-4ea0-c910-d1a87e10848b"
      },
      "execution_count": null,
      "outputs": [
        {
          "output_type": "stream",
          "name": "stdout",
          "text": [
            "La especificidad del modelo es:\n",
            "0.3333333333333333\n"
          ]
        }
      ]
    },
    {
      "cell_type": "markdown",
      "source": [
        "¿Para una persona con las siguientes características indicar si vive en la ciudad o las áreas rurales ['Age','Mother_Edu','Father_Edu','Height','Weight','Income','Self_Esteem','FamilySize']=[34,9,6,65,135,50000,30,3]?"
      ],
      "metadata": {
        "id": "YlKyE-WH0byc"
      }
    },
    {
      "cell_type": "code",
      "source": [
        "Xun=np.array([34,9,6,65,135,50000,30,3]) #Esta es la persona del excel\n",
        "ydun=mnb.predict([Xun]) #Muestra los datos de salida - pero que el obtuvo\n",
        "print(ydun)"
      ],
      "metadata": {
        "colab": {
          "base_uri": "https://localhost:8080/"
        },
        "id": "TFNuxCdGvwU5",
        "outputId": "36d33f90-1666-4c1b-c6ee-ba9a15fc24c4"
      },
      "execution_count": null,
      "outputs": [
        {
          "output_type": "stream",
          "name": "stdout",
          "text": [
            "[1.]\n"
          ]
        }
      ]
    }
  ]
}